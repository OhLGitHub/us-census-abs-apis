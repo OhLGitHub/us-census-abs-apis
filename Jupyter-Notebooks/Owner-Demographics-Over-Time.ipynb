{
 "cells": [
  {
   "cell_type": "code",
   "execution_count": 139,
   "id": "323fa098-7729-41ca-82bd-845b57d3b314",
   "metadata": {},
   "outputs": [],
   "source": [
    "import pandas as pd\n",
    "import requests\n",
    "import json\n",
    "from pprint import pprint\n",
    "import seaborn as sns\n",
    "import matplotlib.pyplot as plt\n",
    "%matplotlib inline\n",
    "pd.options.mode.chained_assignment = None"
   ]
  },
  {
   "cell_type": "markdown",
   "id": "e179a73f-98b1-46f6-ba75-511c96aa676c",
   "metadata": {},
   "source": [
    "## OWNER SEX"
   ]
  },
  {
   "cell_type": "code",
   "execution_count": 178,
   "id": "15688089-de3b-48b0-ad7b-f8bf98fcf04f",
   "metadata": {},
   "outputs": [
    {
     "name": "stdout",
     "output_type": "stream",
     "text": [
      "  OWNER_SEX                 OWNER_SEX_LABEL OWNPDEMP us\n",
      "0       001  All owners of respondent firms  3264885  1\n",
      "1       002                          Female   982220  1\n",
      "2       003                            Male  2282665  1\n"
     ]
    }
   ],
   "source": [
    "year=\"2017\"\n",
    "dataset=\"abscbo\"\n",
    "params=\"OWNER_SEX,OWNER_SEX_LABEL,OWNPDEMP\"\n",
    "#OWNER_ETH_LABEL,OWNER_RACE_LABEL,OWNER_VET_LABEL,\n",
    "location=\"us:*\"\n",
    "#key=\"f495836a65bedeff196d595e832e34b44d19386e\"\n",
    "key=\"8737fba76f1a356a17271c7c6c1365d2bed46705\"\n",
    "url=f\"https://api.census.gov/data/{year}/{dataset}?get={params}&for={location}&key={key}\"\n",
    "\n",
    "ownersex2017_list=json.loads(requests.get(url).text)\n",
    "headers_os2017 = ownersex2017_list.pop(0)\n",
    "ownersex2017_df = pd.DataFrame(ownersex2017_list, columns=headers_os2017)\n",
    "print(ownersex2017_df)"
   ]
  },
  {
   "cell_type": "code",
   "execution_count": 179,
   "id": "8a417c9e-5491-48f9-b6f4-bf41166f3153",
   "metadata": {},
   "outputs": [
    {
     "name": "stdout",
     "output_type": "stream",
     "text": [
      "                  OWNER_SEX_LABEL  2017 Percent of All Owners\n",
      "0  All owners of respondent firms                         100\n",
      "1                          Female                          30\n",
      "2                            Male                          69\n"
     ]
    }
   ],
   "source": [
    "ownersex2017_df[\"OWNPDEMP\"] = pd.to_numeric(ownersex2017_df[\"OWNPDEMP\"])\n",
    "totalsex2017 = ownersex2017_df[\"OWNPDEMP\"].values[0]\n",
    "female2017 = ownersex2017_df[\"OWNPDEMP\"].values[1]\n",
    "male2017 = ownersex2017_df[\"OWNPDEMP\"].values[2]\n",
    "femalepct2017 = female2017/totalsex2017*100\n",
    "malepct2017 = male2017/totalsex2017*100\n",
    "ownersex2017_df[\"2017 Percent of All Owners\"] = 0\n",
    "ownersex2017_df[\"2017 Percent of All Owners\"].values[0] = femalepct2017 + malepct2017\n",
    "ownersex2017_df[\"2017 Percent of All Owners\"].values[1] = femalepct2017\n",
    "ownersex2017_df[\"2017 Percent of All Owners\"].values[2] = malepct2017\n",
    "ownersex2017_df = ownersex2017_df[[\"OWNER_SEX_LABEL\",\"2017 Percent of All Owners\"]]\n",
    "print(ownersex2017_df)"
   ]
  },
  {
   "cell_type": "code",
   "execution_count": 180,
   "id": "2ca540d6-4b0c-49e9-a02d-612105e2c4a4",
   "metadata": {},
   "outputs": [
    {
     "name": "stdout",
     "output_type": "stream",
     "text": [
      "  OWNER_SEX                 OWNER_SEX_LABEL OWNPDEMP us\n",
      "0       001  All owners of respondent firms   146045  1\n",
      "1       002                          Female    33689  1\n",
      "2       003                            Male   112357  1\n"
     ]
    }
   ],
   "source": [
    "year=\"2018\"\n",
    "dataset=\"abscbo\"\n",
    "params=\"OWNER_SEX,OWNER_SEX_LABEL,OWNPDEMP\"\n",
    "location=\"us:*\"\n",
    "#key=\"f495836a65bedeff196d595e832e34b44d19386e\"\n",
    "key=\"8737fba76f1a356a17271c7c6c1365d2bed46705\"\n",
    "url=f\"https://api.census.gov/data/{year}/{dataset}?get={params}&for={location}&key={key}\"\n",
    "\n",
    "ownersex2018_list=json.loads(requests.get(url).text)\n",
    "headers_os2018 = ownersex2018_list.pop(0)\n",
    "ownersex2018_df = pd.DataFrame(ownersex2018_list, columns=headers_os2018)\n",
    "print(ownersex2018_df)"
   ]
  },
  {
   "cell_type": "code",
   "execution_count": 181,
   "id": "c70ac20d-81ab-41d6-b9b7-0a60270c0707",
   "metadata": {},
   "outputs": [
    {
     "name": "stdout",
     "output_type": "stream",
     "text": [
      "                  OWNER_SEX_LABEL  2018 Percent of All Owners\n",
      "0  All owners of respondent firms                         100\n",
      "1                          Female                          23\n",
      "2                            Male                          76\n"
     ]
    }
   ],
   "source": [
    "ownersex2018_df[\"OWNPDEMP\"] = pd.to_numeric(ownersex2018_df[\"OWNPDEMP\"])\n",
    "totalsex2018 = ownersex2018_df[\"OWNPDEMP\"].values[0]\n",
    "female2018 = ownersex2018_df[\"OWNPDEMP\"].values[1]\n",
    "male2018 = ownersex2018_df[\"OWNPDEMP\"].values[2]\n",
    "femalepct2018 = female2018/totalsex2018*100\n",
    "malepct2018 = male2018/totalsex2018*100\n",
    "ownersex2018_df[\"2018 Percent of All Owners\"] = 0\n",
    "ownersex2018_df[\"2018 Percent of All Owners\"].values[0] = femalepct2018 + malepct2018\n",
    "ownersex2018_df[\"2018 Percent of All Owners\"].values[1] = femalepct2018\n",
    "ownersex2018_df[\"2018 Percent of All Owners\"].values[2] = malepct2018\n",
    "ownersex2018_df = ownersex2018_df[[\"OWNER_SEX_LABEL\",\"2018 Percent of All Owners\"]]\n",
    "print(ownersex2018_df)"
   ]
  },
  {
   "cell_type": "code",
   "execution_count": 182,
   "id": "e5666327-9a4d-4e57-9584-024ad57816e9",
   "metadata": {},
   "outputs": [
    {
     "name": "stdout",
     "output_type": "stream",
     "text": [
      "  OWNER_SEX                 OWNER_SEX_LABEL OWNPDEMP us\n",
      "0       001  All owners of respondent firms   133653  1\n",
      "1       002                          Female    32521  1\n",
      "2       003                            Male   101131  1\n"
     ]
    }
   ],
   "source": [
    "year=\"2019\"\n",
    "dataset=\"abscbo\"\n",
    "params=\"OWNER_SEX,OWNER_SEX_LABEL,OWNPDEMP\"\n",
    "location=\"us:*\"\n",
    "#key=\"f495836a65bedeff196d595e832e34b44d19386e\"\n",
    "key=\"8737fba76f1a356a17271c7c6c1365d2bed46705\"\n",
    "url=f\"https://api.census.gov/data/{year}/{dataset}?get={params}&for={location}&key={key}\"\n",
    "\n",
    "ownersex2019_list=json.loads(requests.get(url).text)\n",
    "headers_os2019 = ownersex2019_list.pop(0)\n",
    "ownersex2019_df = pd.DataFrame(ownersex2019_list, columns=headers_os2019)\n",
    "print(ownersex2019_df)"
   ]
  },
  {
   "cell_type": "code",
   "execution_count": 183,
   "id": "6d4f879a-d37f-4b23-86d5-70c2d980ee1d",
   "metadata": {},
   "outputs": [
    {
     "name": "stdout",
     "output_type": "stream",
     "text": [
      "                  OWNER_SEX_LABEL  2019 Percent of All Owners\n",
      "0  All owners of respondent firms                          99\n",
      "1                          Female                          24\n",
      "2                            Male                          75\n"
     ]
    }
   ],
   "source": [
    "ownersex2019_df[\"OWNPDEMP\"] = pd.to_numeric(ownersex2019_df[\"OWNPDEMP\"])\n",
    "totalsex2019 = ownersex2019_df[\"OWNPDEMP\"].values[0]\n",
    "female2019 = ownersex2019_df[\"OWNPDEMP\"].values[1]\n",
    "male2019 = ownersex2019_df[\"OWNPDEMP\"].values[2]\n",
    "femalepct2019 = female2019/totalsex2019*100\n",
    "malepct2019 = male2019/totalsex2019*100\n",
    "ownersex2019_df[\"2019 Percent of All Owners\"] = 0\n",
    "ownersex2019_df[\"2019 Percent of All Owners\"].values[0] = femalepct2019 + malepct2019\n",
    "ownersex2019_df[\"2019 Percent of All Owners\"].values[1] = femalepct2019\n",
    "ownersex2019_df[\"2019 Percent of All Owners\"].values[2] = malepct2019\n",
    "ownersex2019_df = ownersex2019_df[[\"OWNER_SEX_LABEL\",\"2019 Percent of All Owners\"]]\n",
    "print(ownersex2019_df)"
   ]
  },
  {
   "cell_type": "code",
   "execution_count": 190,
   "id": "09ca4297-50e1-4fe6-afc3-70283c48cebb",
   "metadata": {},
   "outputs": [
    {
     "name": "stdout",
     "output_type": "stream",
     "text": [
      "                  OWNER_SEX_LABEL  2017 Percent of All Owners  \\\n",
      "0  All owners of respondent firms                         100   \n",
      "1                          Female                          30   \n",
      "2                            Male                          69   \n",
      "\n",
      "   2018 Percent of All Owners  2019 Percent of All Owners  \n",
      "0                         100                          99  \n",
      "1                          23                          24  \n",
      "2                          76                          75  \n",
      "   Year  Female  Male\n",
      "0  2017      30    69\n",
      "1  2018      23    76\n",
      "2  2019      24    75\n"
     ]
    }
   ],
   "source": [
    "ownersex_merge1 = ownersex2017_df.merge(ownersex2018_df, how='inner', on='OWNER_SEX_LABEL')\n",
    "ownersex_merge2 = ownersex_merge1.merge(ownersex2019_df, how='inner', on='OWNER_SEX_LABEL')\n",
    "print(ownersex_merge2)\n",
    "ownersex_df = pd.DataFrame(data={'Year':['2017','2018','2019'],'Female':[ownersex_merge2['2017 Percent of All Owners'][1],ownersex_merge2['2018 Percent of All Owners'][1],ownersex_merge2['2019 Percent of All Owners'][1]],'Male':[ownersex_merge2['2017 Percent of All Owners'][2],ownersex_merge2['2018 Percent of All Owners'][2],ownersex_merge2['2019 Percent of All Owners'][2]]})\n",
    "print(ownersex_df)"
   ]
  },
  {
   "cell_type": "code",
   "execution_count": 192,
   "id": "8a2780a4-9c61-4504-844b-21cc68cf9223",
   "metadata": {},
   "outputs": [
    {
     "data": {
      "image/png": "[encoded data removed]",
      "text/plain": [
       "<Figure size 432x288 with 1 Axes>"
      ]
     },
     "metadata": {
      "needs_background": "light"
     },
     "output_type": "display_data"
    }
   ],
   "source": [
    "ownersexf_ax = ownersex_df.plot(kind='line',x='Year',y='Female',c='purple',label='Female')\n",
    "ownersexm_ax = ownersex_df.plot(kind='line',x='Year',y='Male',c='green',label='Male',ax=ownersexf_ax)\n",
    "ownersexf_ax.set_title('Percent of All Owners of Respondent Firms by Sex')\n",
    "ownersexf_ax.set_xlabel('Year')\n",
    "ownersexf_ax.set_ylabel('Percent of All Owners')\n",
    "ownersexf_ax.set_ylim(0,100)\n",
    "plt.legend(loc='center right')\n",
    "plt.show()"
   ]
  },
  {
   "cell_type": "markdown",
   "id": "9121e715-8f73-4e07-9fb0-32f969083d7a",
   "metadata": {},
   "source": [
    "## OWNER ETH"
   ]
  },
  {
   "cell_type": "code",
   "execution_count": 148,
   "id": "fd690e27-f61c-4c31-b274-b1622469cffe",
   "metadata": {},
   "outputs": [
    {
     "name": "stdout",
     "output_type": "stream",
     "text": [
      "  OWNER_ETH                 OWNER_ETH_LABEL OWNPDEMP us\n",
      "0       001  All owners of respondent firms  3264885  1\n",
      "1       020                        Hispanic   194276  1\n",
      "2       029                    Non-Hispanic  3070610  1\n"
     ]
    }
   ],
   "source": [
    "year=\"2017\"\n",
    "dataset=\"abscbo\"\n",
    "params=\"OWNER_ETH,OWNER_ETH_LABEL,OWNPDEMP\"\n",
    "location=\"us:*\"\n",
    "#key=\"f495836a65bedeff196d595e832e34b44d19386e\"\n",
    "key=\"8737fba76f1a356a17271c7c6c1365d2bed46705\"\n",
    "url=f\"https://api.census.gov/data/{year}/{dataset}?get={params}&for={location}&key={key}\"\n",
    "\n",
    "ownereth2017_list=json.loads(requests.get(url).text)\n",
    "headers_oe2017 = ownereth2017_list.pop(0)\n",
    "ownereth2017_df = pd.DataFrame(ownereth2017_list, columns=headers_oe2017)\n",
    "print(ownereth2017_df)"
   ]
  },
  {
   "cell_type": "code",
   "execution_count": 149,
   "id": "d082b7f4-ebfb-4559-8f66-21a88ef70e74",
   "metadata": {},
   "outputs": [
    {
     "name": "stdout",
     "output_type": "stream",
     "text": [
      "                  OWNER_ETH_LABEL  2017 Percent of All Owners\n",
      "0  All owners of respondent firms                         100\n",
      "1                        Hispanic                           5\n",
      "2                    Non-Hispanic                          94\n"
     ]
    }
   ],
   "source": [
    "ownereth2017_df[\"OWNPDEMP\"] = pd.to_numeric(ownereth2017_df[\"OWNPDEMP\"])\n",
    "totaleth2017 = ownereth2017_df[\"OWNPDEMP\"].values[0]\n",
    "hisp2017 = ownereth2017_df[\"OWNPDEMP\"].values[1]\n",
    "nhisp2017 = ownereth2017_df[\"OWNPDEMP\"].values[2]\n",
    "hisppct2017 = hisp2017/totaleth2017*100\n",
    "nhisppct2017 = nhisp2017/totaleth2017*100\n",
    "ownereth2017_df[\"2017 Percent of All Owners\"] = 0\n",
    "ownereth2017_df[\"2017 Percent of All Owners\"].values[0] = hisppct2017 + nhisppct2017\n",
    "ownereth2017_df[\"2017 Percent of All Owners\"].values[1] = hisppct2017\n",
    "ownereth2017_df[\"2017 Percent of All Owners\"].values[2] = nhisppct2017\n",
    "ownereth2017_df = ownereth2017_df[[\"OWNER_ETH_LABEL\",\"2017 Percent of All Owners\"]]\n",
    "print(ownereth2017_df)"
   ]
  },
  {
   "cell_type": "code",
   "execution_count": 150,
   "id": "75f9ae3d-eaa3-402e-af8c-bc41c1172f58",
   "metadata": {},
   "outputs": [
    {
     "name": "stdout",
     "output_type": "stream",
     "text": [
      "  OWNER_ETH                 OWNER_ETH_LABEL OWNPDEMP us\n",
      "0       001  All owners of respondent firms   146045  1\n",
      "1       020                        Hispanic     3198  1\n",
      "2       029                    Non-Hispanic   142849  1\n"
     ]
    }
   ],
   "source": [
    "year=\"2018\"\n",
    "dataset=\"abscbo\"\n",
    "params=\"OWNER_ETH,OWNER_ETH_LABEL,OWNPDEMP\"\n",
    "location=\"us:*\"\n",
    "#key=\"f495836a65bedeff196d595e832e34b44d19386e\"\n",
    "key=\"8737fba76f1a356a17271c7c6c1365d2bed46705\"\n",
    "url=f\"https://api.census.gov/data/{year}/{dataset}?get={params}&for={location}&key={key}\"\n",
    "\n",
    "ownereth2018_list=json.loads(requests.get(url).text)\n",
    "headers_oe2018 = ownereth2018_list.pop(0)\n",
    "ownereth2018_df = pd.DataFrame(ownereth2018_list, columns=headers_oe2018)\n",
    "print(ownereth2018_df)"
   ]
  },
  {
   "cell_type": "code",
   "execution_count": 151,
   "id": "7affeb38-65c2-4257-8784-0d6e0302a33e",
   "metadata": {},
   "outputs": [
    {
     "name": "stdout",
     "output_type": "stream",
     "text": [
      "                  OWNER_ETH_LABEL  2018 Percent of All Owners\n",
      "0  All owners of respondent firms                         100\n",
      "1                        Hispanic                           2\n",
      "2                    Non-Hispanic                          97\n"
     ]
    }
   ],
   "source": [
    "ownereth2018_df[\"OWNPDEMP\"] = pd.to_numeric(ownereth2018_df[\"OWNPDEMP\"])\n",
    "totaleth2018 = ownereth2018_df[\"OWNPDEMP\"].values[0]\n",
    "hisp2018 = ownereth2018_df[\"OWNPDEMP\"].values[1]\n",
    "nhisp2018 = ownereth2018_df[\"OWNPDEMP\"].values[2]\n",
    "hisppct2018 = hisp2018/totaleth2018*100\n",
    "nhisppct2018 = nhisp2018/totaleth2018*100\n",
    "ownereth2018_df[\"2018 Percent of All Owners\"] = 0\n",
    "ownereth2018_df[\"2018 Percent of All Owners\"].values[0] = hisppct2018 + nhisppct2018\n",
    "ownereth2018_df[\"2018 Percent of All Owners\"].values[1] = hisppct2018\n",
    "ownereth2018_df[\"2018 Percent of All Owners\"].values[2] = nhisppct2018\n",
    "ownereth2018_df = ownereth2018_df[[\"OWNER_ETH_LABEL\",\"2018 Percent of All Owners\"]]\n",
    "print(ownereth2018_df)"
   ]
  },
  {
   "cell_type": "code",
   "execution_count": 152,
   "id": "83371947-6426-427e-92aa-26216d7f23b6",
   "metadata": {},
   "outputs": [
    {
     "name": "stdout",
     "output_type": "stream",
     "text": [
      "  OWNER_ETH                 OWNER_ETH_LABEL OWNPDEMP us\n",
      "0       001  All owners of respondent firms   133653  1\n",
      "1       020                        Hispanic     4343  1\n",
      "2       029                    Non-Hispanic   129309  1\n"
     ]
    }
   ],
   "source": [
    "year=\"2019\"\n",
    "dataset=\"abscbo\"\n",
    "params=\"OWNER_ETH,OWNER_ETH_LABEL,OWNPDEMP\"\n",
    "location=\"us:*\"\n",
    "#key=\"f495836a65bedeff196d595e832e34b44d19386e\"\n",
    "key=\"8737fba76f1a356a17271c7c6c1365d2bed46705\"\n",
    "url=f\"https://api.census.gov/data/{year}/{dataset}?get={params}&for={location}&key={key}\"\n",
    "\n",
    "ownereth2019_list=json.loads(requests.get(url).text)\n",
    "headers_oe2019 = ownereth2019_list.pop(0)\n",
    "ownereth2019_df = pd.DataFrame(ownereth2019_list, columns=headers_oe2019)\n",
    "print(ownereth2019_df)"
   ]
  },
  {
   "cell_type": "code",
   "execution_count": 153,
   "id": "0992ef43-7790-4888-8c83-b3c0f021ac9d",
   "metadata": {},
   "outputs": [
    {
     "name": "stdout",
     "output_type": "stream",
     "text": [
      "                  OWNER_ETH_LABEL  2019 Percent of All Owners\n",
      "0  All owners of respondent firms                          99\n",
      "1                        Hispanic                           3\n",
      "2                    Non-Hispanic                          96\n"
     ]
    }
   ],
   "source": [
    "ownereth2019_df[\"OWNPDEMP\"] = pd.to_numeric(ownereth2019_df[\"OWNPDEMP\"])\n",
    "totaleth2019 = ownereth2019_df[\"OWNPDEMP\"].values[0]\n",
    "hisp2019 = ownereth2019_df[\"OWNPDEMP\"].values[1]\n",
    "nhisp2019 = ownereth2019_df[\"OWNPDEMP\"].values[2]\n",
    "hisppct2019 = hisp2019/totaleth2019*100\n",
    "nhisppct2019 = nhisp2019/totaleth2019*100\n",
    "ownereth2019_df[\"2019 Percent of All Owners\"] = 0\n",
    "ownereth2019_df[\"2019 Percent of All Owners\"].values[0] = hisppct2019 + nhisppct2019\n",
    "ownereth2019_df[\"2019 Percent of All Owners\"].values[1] = hisppct2019\n",
    "ownereth2019_df[\"2019 Percent of All Owners\"].values[2] = nhisppct2019\n",
    "ownereth2019_df = ownereth2019_df[[\"OWNER_ETH_LABEL\",\"2019 Percent of All Owners\"]]\n",
    "print(ownereth2019_df)"
   ]
  },
  {
   "cell_type": "code",
   "execution_count": 154,
   "id": "aacb24dc-ef2f-4b16-96de-ac07fe3aeda9",
   "metadata": {},
   "outputs": [
    {
     "name": "stdout",
     "output_type": "stream",
     "text": [
      "                  OWNER_ETH_LABEL  2017 Percent of All Owners  \\\n",
      "0  All owners of respondent firms                         100   \n",
      "1                        Hispanic                           5   \n",
      "2                    Non-Hispanic                          94   \n",
      "\n",
      "   2018 Percent of All Owners  2019 Percent of All Owners  \n",
      "0                         100                          99  \n",
      "1                           2                           3  \n",
      "2                          97                          96  \n",
      "   Year  Hispanic  Non-Hispanic\n",
      "0  2017         5            94\n",
      "1  2018         2            97\n",
      "2  2019         3            96\n"
     ]
    }
   ],
   "source": [
    "ownereth_merge1 = ownereth2017_df.merge(ownereth2018_df, how='inner', on='OWNER_ETH_LABEL')\n",
    "ownereth_merge2 = ownereth_merge1.merge(ownereth2019_df, how='inner', on='OWNER_ETH_LABEL')\n",
    "print(ownereth_merge2)\n",
    "ownereth_df = pd.DataFrame(data={'Year':['2017','2018','2019'],'Hispanic':[ownereth_merge2['2017 Percent of All Owners'][1],ownereth_merge2['2018 Percent of All Owners'][1],ownereth_merge2['2019 Percent of All Owners'][1]],'Non-Hispanic':[ownereth_merge2['2017 Percent of All Owners'][2],ownereth_merge2['2018 Percent of All Owners'][2],ownereth_merge2['2019 Percent of All Owners'][2]]})\n",
    "print(ownereth_df)"
   ]
  },
  {
   "cell_type": "code",
   "execution_count": 155,
   "id": "b2152920-73c8-4079-a7c7-1620165e62ef",
   "metadata": {},
   "outputs": [
    {
     "data": {
      "image/png": "[encoded data removed]",
      "text/plain": [
       "<Figure size 432x288 with 1 Axes>"
      ]
     },
     "metadata": {
      "needs_background": "light"
     },
     "output_type": "display_data"
    }
   ],
   "source": [
    "ownerethh_ax = ownereth_df.plot(kind='line',x='Year',y='Hispanic',c='purple',label='Hispanic')\n",
    "ownerethn_ax = ownereth_df.plot(kind='line',x='Year',y='Non-Hispanic',c='green',label='Non-Hispanic',ax=ownerethh_ax)\n",
    "ownerethh_ax.set_title('Percent of All Owners of Respondent Firms by Ethnicity')\n",
    "ownerethh_ax.set_xlabel('Year')\n",
    "ownerethh_ax.set_ylabel('Percent of All Owners')\n",
    "ownerethh_ax.set_ylim(0,100)\n",
    "plt.legend(loc='center right')\n",
    "plt.show()"
   ]
  },
  {
   "cell_type": "markdown",
   "id": "1ccd5e5e-6a8b-4fed-9ec1-3f06e806a07f",
   "metadata": {},
   "source": [
    "## OWNER RACE"
   ]
  },
  {
   "cell_type": "code",
   "execution_count": 165,
   "id": "0f09418d-5a5a-42ed-bf4c-27c6beb05a79",
   "metadata": {},
   "outputs": [
    {
     "name": "stdout",
     "output_type": "stream",
     "text": [
      "  OWNER_RACE                            OWNER_RACE_LABEL OWNPDEMP us\n",
      "0         60                                       Asian   300285  1\n",
      "1         70  Native Hawaiian and Other Pacific Islander     5027  1\n",
      "2         90                                    Minority   569256  1\n",
      "3         00              All owners of respondent firms  3264885  1\n",
      "4         30                                       White  2906644  1\n",
      "5         40                   Black or African American    66799  1\n",
      "6         50           American Indian and Alaska Native    18016  1\n",
      "7         92                                 Nonminority  2695629  1\n"
     ]
    }
   ],
   "source": [
    "year=\"2017\"\n",
    "dataset=\"abscbo\"\n",
    "params=\"OWNER_RACE,OWNER_RACE_LABEL,OWNPDEMP\"\n",
    "location=\"us:*\"\n",
    "#key=\"f495836a65bedeff196d595e832e34b44d19386e\"\n",
    "key=\"8737fba76f1a356a17271c7c6c1365d2bed46705\"\n",
    "url=f\"https://api.census.gov/data/{year}/{dataset}?get={params}&for={location}&key={key}\"\n",
    "\n",
    "ownerrace2017_list=json.loads(requests.get(url).text)\n",
    "headers_or2017 = ownerrace2017_list.pop(0)\n",
    "ownerrace2017_df = pd.DataFrame(ownerrace2017_list, columns=headers_or2017)\n",
    "print(ownerrace2017_df)"
   ]
  },
  {
   "cell_type": "code",
   "execution_count": 168,
   "id": "4320d005-a206-481c-afcc-6016da48b13e",
   "metadata": {},
   "outputs": [
    {
     "name": "stdout",
     "output_type": "stream",
     "text": [
      "                 OWNER_RACE_LABEL  2017 Percent of All Owners\n",
      "3  All owners of respondent firms                         100\n",
      "2                        Minority                          17\n",
      "7                     Nonminority                          82\n"
     ]
    }
   ],
   "source": [
    "ownerrace2017_df[\"OWNPDEMP\"] = pd.to_numeric(ownerrace2017_df[\"OWNPDEMP\"])\n",
    "race = ['All owners of respondent firms','Minority','Nonminority']\n",
    "ownerrace2017_df = ownerrace2017_df[ownerrace2017_df['OWNER_RACE_LABEL'].isin(race)]\n",
    "ownerrace2017_df = ownerrace2017_df.sort_values('OWNER_RACE_LABEL')\n",
    "totalrace2017 = ownerrace2017_df[\"OWNPDEMP\"].values[0]\n",
    "min2017 = ownerrace2017_df[\"OWNPDEMP\"].values[1]\n",
    "nmin2017 = ownerrace2017_df[\"OWNPDEMP\"].values[2]\n",
    "minpct2017 = min2017/totalrace2017*100\n",
    "nminpct2017 = nmin2017/totalrace2017*100\n",
    "ownerrace2017_df[\"2017 Percent of All Owners\"] = 0\n",
    "ownerrace2017_df[\"2017 Percent of All Owners\"].values[0] = minpct2017 + nminpct2017\n",
    "ownerrace2017_df[\"2017 Percent of All Owners\"].values[1] = minpct2017\n",
    "ownerrace2017_df[\"2017 Percent of All Owners\"].values[2] = nminpct2017\n",
    "ownerrace2017_df = ownerrace2017_df[[\"OWNER_RACE_LABEL\",\"2017 Percent of All Owners\"]]\n",
    "print(ownerrace2017_df)"
   ]
  },
  {
   "cell_type": "code",
   "execution_count": 28,
   "id": "59c9db5f-1d08-4a0d-a976-f11a45fe8e55",
   "metadata": {},
   "outputs": [
    {
     "name": "stdout",
     "output_type": "stream",
     "text": [
      "  OWNER_RACE                            OWNER_RACE_LABEL OWNPDEMP us\n",
      "0         50           American Indian and Alaska Native      372  1\n",
      "1         00              All owners of respondent firms   146045  1\n",
      "2         30                                       White   140242  1\n",
      "3         40                   Black or African American     1224  1\n",
      "4         60                                       Asian     4497  1\n",
      "5         70  Native Hawaiian and Other Pacific Islander      136  1\n",
      "6         90                                    Minority     9261  1\n",
      "7         92                                 Nonminority   136785  1\n"
     ]
    }
   ],
   "source": [
    "year=\"2018\"\n",
    "dataset=\"abscbo\"\n",
    "params=\"OWNER_RACE,OWNER_RACE_LABEL,OWNPDEMP\"\n",
    "location=\"us:*\"\n",
    "#key=\"f495836a65bedeff196d595e832e34b44d19386e\"\n",
    "key=\"8737fba76f1a356a17271c7c6c1365d2bed46705\"\n",
    "url=f\"https://api.census.gov/data/{year}/{dataset}?get={params}&for={location}&key={key}\"\n",
    "\n",
    "ownerrace2018_list=json.loads(requests.get(url).text)\n",
    "headers_or2018 = ownerrace2018_list.pop(0)\n",
    "ownerrace2018_df = pd.DataFrame(ownerrace2018_list, columns=headers_or2018)\n",
    "print(ownerrace2018_df)"
   ]
  },
  {
   "cell_type": "code",
   "execution_count": 169,
   "id": "dd1313bf-5732-419e-b340-c8efc6852a7a",
   "metadata": {},
   "outputs": [
    {
     "name": "stdout",
     "output_type": "stream",
     "text": [
      "                 OWNER_RACE_LABEL  2018 Percent of All Owners\n",
      "1  All owners of respondent firms                         100\n",
      "6                        Minority                           6\n",
      "7                     Nonminority                          93\n"
     ]
    }
   ],
   "source": [
    "ownerrace2018_df[\"OWNPDEMP\"] = pd.to_numeric(ownerrace2018_df[\"OWNPDEMP\"])\n",
    "race = ['All owners of respondent firms','Minority','Nonminority']\n",
    "ownerrace2018_df = ownerrace2018_df[ownerrace2018_df['OWNER_RACE_LABEL'].isin(race)]\n",
    "ownerrace2018_df = ownerrace2018_df.sort_values('OWNER_RACE_LABEL')\n",
    "totalrace2018 = ownerrace2018_df[\"OWNPDEMP\"].values[0]\n",
    "min2018 = ownerrace2018_df[\"OWNPDEMP\"].values[1]\n",
    "nmin2018 = ownerrace2018_df[\"OWNPDEMP\"].values[2]\n",
    "minpct2018 = min2018/totalrace2018*100\n",
    "nminpct2018 = nmin2018/totalrace2018*100\n",
    "ownerrace2018_df[\"2018 Percent of All Owners\"] = 0\n",
    "ownerrace2018_df[\"2018 Percent of All Owners\"].values[0] = minpct2018 + nminpct2018\n",
    "ownerrace2018_df[\"2018 Percent of All Owners\"].values[1] = minpct2018\n",
    "ownerrace2018_df[\"2018 Percent of All Owners\"].values[2] = nminpct2018\n",
    "ownerrace2018_df = ownerrace2018_df[[\"OWNER_RACE_LABEL\",\"2018 Percent of All Owners\"]]\n",
    "print(ownerrace2018_df)"
   ]
  },
  {
   "cell_type": "code",
   "execution_count": 29,
   "id": "c1584195-9f20-41c6-8451-5fb66834a687",
   "metadata": {},
   "outputs": [
    {
     "name": "stdout",
     "output_type": "stream",
     "text": [
      "  OWNER_RACE                            OWNER_RACE_LABEL OWNPDEMP us\n",
      "0         00              All owners of respondent firms   133653  1\n",
      "1         30                                       White   127346  1\n",
      "2         40                   Black or African American      945  1\n",
      "3         90                                    Minority    11057  1\n",
      "4         92                                 Nonminority   122597  1\n",
      "5         50           American Indian and Alaska Native      440  1\n",
      "6         60                                       Asian     5431  1\n",
      "7         70  Native Hawaiian and Other Pacific Islander       84  1\n"
     ]
    }
   ],
   "source": [
    "year=\"2019\"\n",
    "dataset=\"abscbo\"\n",
    "params=\"OWNER_RACE,OWNER_RACE_LABEL,OWNPDEMP\"\n",
    "location=\"us:*\"\n",
    "#key=\"f495836a65bedeff196d595e832e34b44d19386e\"\n",
    "key=\"8737fba76f1a356a17271c7c6c1365d2bed46705\"\n",
    "url=f\"https://api.census.gov/data/{year}/{dataset}?get={params}&for={location}&key={key}\"\n",
    "\n",
    "ownerrace2019_list=json.loads(requests.get(url).text)\n",
    "headers_or2019 = ownerrace2019_list.pop(0)\n",
    "ownerrace2019_df = pd.DataFrame(ownerrace2019_list, columns=headers_or2019)\n",
    "print(ownerrace2019_df)"
   ]
  },
  {
   "cell_type": "code",
   "execution_count": 170,
   "id": "ed4075c1-138c-4779-9f29-1bea741a8c32",
   "metadata": {},
   "outputs": [
    {
     "name": "stdout",
     "output_type": "stream",
     "text": [
      "                 OWNER_RACE_LABEL  2019 Percent of All Owners\n",
      "0  All owners of respondent firms                         100\n",
      "3                        Minority                           8\n",
      "4                     Nonminority                          91\n"
     ]
    }
   ],
   "source": [
    "ownerrace2019_df[\"OWNPDEMP\"] = pd.to_numeric(ownerrace2019_df[\"OWNPDEMP\"])\n",
    "race = ['All owners of respondent firms','Minority','Nonminority']\n",
    "ownerrace2019_df = ownerrace2019_df[ownerrace2019_df['OWNER_RACE_LABEL'].isin(race)]\n",
    "ownerrace2019_df = ownerrace2019_df.sort_values('OWNER_RACE_LABEL')\n",
    "totalrace2019 = ownerrace2019_df[\"OWNPDEMP\"].values[0]\n",
    "min2019 = ownerrace2019_df[\"OWNPDEMP\"].values[1]\n",
    "nmin2019 = ownerrace2019_df[\"OWNPDEMP\"].values[2]\n",
    "minpct2019 = min2019/totalrace2019*100\n",
    "nminpct2019 = nmin2019/totalrace2019*100\n",
    "ownerrace2019_df[\"2019 Percent of All Owners\"] = 0\n",
    "ownerrace2019_df[\"2019 Percent of All Owners\"].values[0] = minpct2019 + nminpct2019\n",
    "ownerrace2019_df[\"2019 Percent of All Owners\"].values[1] = minpct2019\n",
    "ownerrace2019_df[\"2019 Percent of All Owners\"].values[2] = nminpct2019\n",
    "ownerrace2019_df = ownerrace2019_df[[\"OWNER_RACE_LABEL\",\"2019 Percent of All Owners\"]]\n",
    "print(ownerrace2019_df)"
   ]
  },
  {
   "cell_type": "code",
   "execution_count": 171,
   "id": "6939a60b-6a3c-432e-a24e-9061308662cf",
   "metadata": {},
   "outputs": [
    {
     "name": "stdout",
     "output_type": "stream",
     "text": [
      "                 OWNER_RACE_LABEL  2017 Percent of All Owners  \\\n",
      "0  All owners of respondent firms                         100   \n",
      "1                        Minority                          17   \n",
      "2                     Nonminority                          82   \n",
      "\n",
      "   2018 Percent of All Owners  2019 Percent of All Owners  \n",
      "0                         100                         100  \n",
      "1                           6                           8  \n",
      "2                          93                          91  \n",
      "   Year  Minority  Nonminority\n",
      "0  2017        17           82\n",
      "1  2018         6           93\n",
      "2  2019         8           91\n"
     ]
    }
   ],
   "source": [
    "ownerrace_merge1 = ownerrace2017_df.merge(ownerrace2018_df, how='inner', on='OWNER_RACE_LABEL')\n",
    "ownerrace_merge2 = ownerrace_merge1.merge(ownerrace2019_df, how='inner', on='OWNER_RACE_LABEL')\n",
    "print(ownerrace_merge2)\n",
    "ownerrace_df = pd.DataFrame(data={'Year':['2017','2018','2019'],'Minority':[ownerrace_merge2['2017 Percent of All Owners'][1],ownerrace_merge2['2018 Percent of All Owners'][1],ownerrace_merge2['2019 Percent of All Owners'][1]],'Nonminority':[ownerrace_merge2['2017 Percent of All Owners'][2],ownerrace_merge2['2018 Percent of All Owners'][2],ownerrace_merge2['2019 Percent of All Owners'][2]]})\n",
    "print(ownerrace_df)"
   ]
  },
  {
   "cell_type": "code",
   "execution_count": 174,
   "id": "4c0f0ee8-da6f-467a-87fa-8428d4053b6f",
   "metadata": {},
   "outputs": [
    {
     "data": {
      "image/png": "[encoded data removed]",
      "text/plain": [
       "<Figure size 432x288 with 1 Axes>"
      ]
     },
     "metadata": {
      "needs_background": "light"
     },
     "output_type": "display_data"
    }
   ],
   "source": [
    "ownerracem_ax = ownerrace_df.plot(kind='line',x='Year',y='Minority',c='purple',label='Minority')\n",
    "ownerracen_ax = ownerrace_df.plot(kind='line',x='Year',y='Nonminority',c='green',label='Nonminority',ax=ownerracem_ax)\n",
    "ownerracem_ax.set_title('Percent of All Owners of Respondent Firms by Minority Status')\n",
    "ownerracem_ax.set_xlabel('Year')\n",
    "ownerracem_ax.set_ylabel('Percent of All Owners')\n",
    "ownerracem_ax.set_ylim(0,100)\n",
    "plt.legend(loc='center right')\n",
    "plt.show()"
   ]
  },
  {
   "cell_type": "markdown",
   "id": "4be465b2-ff55-4c30-89e8-2a247dc7b4cd",
   "metadata": {},
   "source": [
    "## OWNER VET"
   ]
  },
  {
   "cell_type": "code",
   "execution_count": 30,
   "id": "580e07bb-963f-45c8-b4b0-fee67a228c0d",
   "metadata": {},
   "outputs": [
    {
     "name": "stdout",
     "output_type": "stream",
     "text": [
      "  OWNER_VET                 OWNER_VET_LABEL OWNPDEMP us\n",
      "0       001  All owners of respondent firms  3264885  1\n",
      "1       002                         Veteran   272608  1\n",
      "2       004                      Nonveteran  2992277  1\n"
     ]
    }
   ],
   "source": [
    "year=\"2017\"\n",
    "dataset=\"abscbo\"\n",
    "params=\"OWNER_VET,OWNER_VET_LABEL,OWNPDEMP\"\n",
    "location=\"us:*\"\n",
    "#key=\"f495836a65bedeff196d595e832e34b44d19386e\"\n",
    "key=\"8737fba76f1a356a17271c7c6c1365d2bed46705\"\n",
    "url=f\"https://api.census.gov/data/{year}/{dataset}?get={params}&for={location}&key={key}\"\n",
    "\n",
    "ownervet2017_list=json.loads(requests.get(url).text)\n",
    "headers_ov2017 = ownervet2017_list.pop(0)\n",
    "ownervet2017_df = pd.DataFrame(ownervet2017_list, columns=headers_ov2017)\n",
    "print(ownervet2017_df)"
   ]
  },
  {
   "cell_type": "code",
   "execution_count": 156,
   "id": "5db1faaa-c37f-4c50-9561-030f3434b0f9",
   "metadata": {},
   "outputs": [
    {
     "name": "stdout",
     "output_type": "stream",
     "text": [
      "                  OWNER_VET_LABEL  2017 Percent of All Owners\n",
      "0  All owners of respondent firms                         100\n",
      "1                         Veteran                           8\n",
      "2                      Nonveteran                          91\n"
     ]
    }
   ],
   "source": [
    "ownervet2017_df[\"OWNPDEMP\"] = pd.to_numeric(ownervet2017_df[\"OWNPDEMP\"])\n",
    "totalvet2017 = ownervet2017_df[\"OWNPDEMP\"].values[0]\n",
    "vet2017 = ownervet2017_df[\"OWNPDEMP\"].values[1]\n",
    "nvet2017 = ownervet2017_df[\"OWNPDEMP\"].values[2]\n",
    "vetpct2017 = vet2017/totalvet2017*100\n",
    "nvetpct2017 = nvet2017/totalvet2017*100\n",
    "ownervet2017_df[\"2017 Percent of All Owners\"] = 0\n",
    "ownervet2017_df[\"2017 Percent of All Owners\"].values[0] = vetpct2017 + nvetpct2017\n",
    "ownervet2017_df[\"2017 Percent of All Owners\"].values[1] = vetpct2017\n",
    "ownervet2017_df[\"2017 Percent of All Owners\"].values[2] = nvetpct2017\n",
    "ownervet2017_df = ownervet2017_df[[\"OWNER_VET_LABEL\",\"2017 Percent of All Owners\"]]\n",
    "print(ownervet2017_df)"
   ]
  },
  {
   "cell_type": "code",
   "execution_count": 31,
   "id": "f1bed110-c133-4aec-8490-aa0e6ad38760",
   "metadata": {},
   "outputs": [
    {
     "name": "stdout",
     "output_type": "stream",
     "text": [
      "  OWNER_VET                 OWNER_VET_LABEL OWNPDEMP us\n",
      "0       001  All owners of respondent firms   146045  1\n",
      "1       002                         Veteran    33787  1\n",
      "2       004                      Nonveteran   112259  1\n"
     ]
    }
   ],
   "source": [
    "year=\"2018\"\n",
    "dataset=\"abscbo\"\n",
    "params=\"OWNER_VET,OWNER_VET_LABEL,OWNPDEMP\"\n",
    "location=\"us:*\"\n",
    "#key=\"f495836a65bedeff196d595e832e34b44d19386e\"\n",
    "key=\"8737fba76f1a356a17271c7c6c1365d2bed46705\"\n",
    "url=f\"https://api.census.gov/data/{year}/{dataset}?get={params}&for={location}&key={key}\"\n",
    "\n",
    "ownervet2018_list=json.loads(requests.get(url).text)\n",
    "headers_ov2018 = ownervet2018_list.pop(0)\n",
    "ownervet2018_df = pd.DataFrame(ownervet2018_list, columns=headers_ov2018)\n",
    "print(ownervet2018_df)"
   ]
  },
  {
   "cell_type": "code",
   "execution_count": 157,
   "id": "29444867-4a7e-448c-8656-a7a66ace3b73",
   "metadata": {},
   "outputs": [
    {
     "name": "stdout",
     "output_type": "stream",
     "text": [
      "                  OWNER_VET_LABEL  2018 Percent of All Owners\n",
      "0  All owners of respondent firms                         100\n",
      "1                         Veteran                          23\n",
      "2                      Nonveteran                          76\n"
     ]
    }
   ],
   "source": [
    "ownervet2018_df[\"OWNPDEMP\"] = pd.to_numeric(ownervet2018_df[\"OWNPDEMP\"])\n",
    "totalvet2018 = ownervet2018_df[\"OWNPDEMP\"].values[0]\n",
    "vet2018 = ownervet2018_df[\"OWNPDEMP\"].values[1]\n",
    "nvet2018 = ownervet2018_df[\"OWNPDEMP\"].values[2]\n",
    "vetpct2018 = vet2018/totalvet2018*100\n",
    "nvetpct2018 = nvet2018/totalvet2018*100\n",
    "ownervet2018_df[\"2018 Percent of All Owners\"] = 0\n",
    "ownervet2018_df[\"2018 Percent of All Owners\"].values[0] = vetpct2018 + nvetpct2018\n",
    "ownervet2018_df[\"2018 Percent of All Owners\"].values[1] = vetpct2018\n",
    "ownervet2018_df[\"2018 Percent of All Owners\"].values[2] = nvetpct2018\n",
    "ownervet2018_df = ownervet2018_df[[\"OWNER_VET_LABEL\",\"2018 Percent of All Owners\"]]\n",
    "print(ownervet2018_df)"
   ]
  },
  {
   "cell_type": "code",
   "execution_count": 32,
   "id": "8fc0c593-e8aa-4d48-ab28-4e085495fbf3",
   "metadata": {},
   "outputs": [
    {
     "name": "stdout",
     "output_type": "stream",
     "text": [
      "  OWNER_VET                 OWNER_VET_LABEL OWNPDEMP us\n",
      "0       001  All owners of respondent firms   133653  1\n",
      "1       002                         Veteran    30475  1\n",
      "2       004                      Nonveteran   103177  1\n"
     ]
    }
   ],
   "source": [
    "year=\"2019\"\n",
    "dataset=\"abscbo\"\n",
    "params=\"OWNER_VET,OWNER_VET_LABEL,OWNPDEMP\"\n",
    "location=\"us:*\"\n",
    "#key=\"f495836a65bedeff196d595e832e34b44d19386e\"\n",
    "key=\"8737fba76f1a356a17271c7c6c1365d2bed46705\"\n",
    "url=f\"https://api.census.gov/data/{year}/{dataset}?get={params}&for={location}&key={key}\"\n",
    "\n",
    "ownervet2019_list=json.loads(requests.get(url).text)\n",
    "headers_ov2019 = ownervet2019_list.pop(0)\n",
    "ownervet2019_df = pd.DataFrame(ownervet2019_list, columns=headers_ov2019)\n",
    "print(ownervet2019_df)"
   ]
  },
  {
   "cell_type": "code",
   "execution_count": 158,
   "id": "a2808f30-d3f7-431c-aa1b-cf053eb11d92",
   "metadata": {},
   "outputs": [
    {
     "name": "stdout",
     "output_type": "stream",
     "text": [
      "                  OWNER_VET_LABEL  2019 Percent of All Owners\n",
      "0  All owners of respondent firms                          99\n",
      "1                         Veteran                          22\n",
      "2                      Nonveteran                          77\n"
     ]
    }
   ],
   "source": [
    "ownervet2019_df[\"OWNPDEMP\"] = pd.to_numeric(ownervet2019_df[\"OWNPDEMP\"])\n",
    "totalvet2019 = ownervet2019_df[\"OWNPDEMP\"].values[0]\n",
    "vet2019 = ownervet2019_df[\"OWNPDEMP\"].values[1]\n",
    "nvet2019 = ownervet2019_df[\"OWNPDEMP\"].values[2]\n",
    "vetpct2019 = vet2019/totalvet2019*100\n",
    "nvetpct2019 = nvet2019/totalvet2019*100\n",
    "ownervet2019_df[\"2019 Percent of All Owners\"] = 0\n",
    "ownervet2019_df[\"2019 Percent of All Owners\"].values[0] = vetpct2019 + nvetpct2019\n",
    "ownervet2019_df[\"2019 Percent of All Owners\"].values[1] = vetpct2019\n",
    "ownervet2019_df[\"2019 Percent of All Owners\"].values[2] = nvetpct2019\n",
    "ownervet2019_df = ownervet2019_df[[\"OWNER_VET_LABEL\",\"2019 Percent of All Owners\"]]\n",
    "print(ownervet2019_df)"
   ]
  },
  {
   "cell_type": "code",
   "execution_count": 159,
   "id": "325124ec-048b-4a13-ba3e-c0f8a70745af",
   "metadata": {},
   "outputs": [
    {
     "name": "stdout",
     "output_type": "stream",
     "text": [
      "                  OWNER_VET_LABEL  2017 Percent of All Owners  \\\n",
      "0  All owners of respondent firms                         100   \n",
      "1                         Veteran                           8   \n",
      "2                      Nonveteran                          91   \n",
      "\n",
      "   2018 Percent of All Owners  2019 Percent of All Owners  \n",
      "0                         100                          99  \n",
      "1                          23                          22  \n",
      "2                          76                          77  \n",
      "   Year  Veteran  Nonveteran\n",
      "0  2017        8          91\n",
      "1  2018       23          76\n",
      "2  2019       22          77\n"
     ]
    }
   ],
   "source": [
    "ownervet_merge1 = ownervet2017_df.merge(ownervet2018_df, how='inner', on='OWNER_VET_LABEL')\n",
    "ownervet_merge2 = ownervet_merge1.merge(ownervet2019_df, how='inner', on='OWNER_VET_LABEL')\n",
    "print(ownervet_merge2)\n",
    "ownervet_df = pd.DataFrame(data={'Year':['2017','2018','2019'],'Veteran':[ownervet_merge2['2017 Percent of All Owners'][1],ownervet_merge2['2018 Percent of All Owners'][1],ownervet_merge2['2019 Percent of All Owners'][1]],'Nonveteran':[ownervet_merge2['2017 Percent of All Owners'][2],ownervet_merge2['2018 Percent of All Owners'][2],ownervet_merge2['2019 Percent of All Owners'][2]]})\n",
    "print(ownervet_df)"
   ]
  },
  {
   "cell_type": "code",
   "execution_count": 160,
   "id": "e5855e82-3b71-42fc-98b0-fe2bb37073bd",
   "metadata": {},
   "outputs": [
    {
     "data": {
      "image/png": "[encoded data removed]",
      "text/plain": [
       "<Figure size 432x288 with 1 Axes>"
      ]
     },
     "metadata": {
      "needs_background": "light"
     },
     "output_type": "display_data"
    }
   ],
   "source": [
    "ownervetv_ax = ownervet_df.plot(kind='line',x='Year',y='Veteran',c='purple',label='Veteran')\n",
    "ownervetn_ax = ownervet_df.plot(kind='line',x='Year',y='Nonveteran',c='green',label='Nonveteran',ax=ownervetv_ax)\n",
    "ownervetv_ax.set_title('Percent of All Owners of Respondent Firms by Veteran Status')\n",
    "ownervetv_ax.set_xlabel('Year')\n",
    "ownervetv_ax.set_ylabel('Percent of All Owners')\n",
    "ownervetv_ax.set_ylim(0,100)\n",
    "plt.legend(loc='center right')\n",
    "plt.show()"
   ]
  }
 ],
 "metadata": {
  "kernelspec": {
   "display_name": "Python 3 (ipykernel)",
   "language": "python",
   "name": "python3"
  },
  "language_info": {
   "codemirror_mode": {
    "name": "ipython",
    "version": 3
   },
   "file_extension": ".py",
   "mimetype": "text/x-python",
   "name": "python",
   "nbconvert_exporter": "python",
   "pygments_lexer": "ipython3",
   "version": "3.9.7"
  }
 },
 "nbformat": 4,
 "nbformat_minor": 5
}
